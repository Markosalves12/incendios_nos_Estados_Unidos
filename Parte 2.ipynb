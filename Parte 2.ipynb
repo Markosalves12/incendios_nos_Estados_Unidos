{
 "cells": [
  {
   "cell_type": "markdown",
   "id": "a518e04a",
   "metadata": {},
   "source": [
    "5 - Qual unidade NWCG identificou e fez mais relatórios sobre incêndios no período entre 2001 - 2010?\n",
    "\n",
    "\n",
    "6 - Quantos acres foram queimados entre 2004 - 2007?\n",
    "\n",
    "\n",
    "7 - Qual mês teve o maior somatório de hectares queimados no período analisado?\n",
    "\n",
    "\n",
    "8 - Um gráfico relacionando a quantidade de hectares queimados aos meses do ano no periodo total analisado. "
   ]
  },
  {
   "cell_type": "code",
   "execution_count": 1,
   "id": "e598b25c",
   "metadata": {},
   "outputs": [],
   "source": [
    "#importando os pacote\n",
    "\n",
    "import re\n",
    "import pandas as pd\n",
    "import sqlite3\n",
    "import numpy as np\n",
    "from itertools import zip_longest\n",
    "import matplotlib.pyplot as plt"
   ]
  },
  {
   "cell_type": "code",
   "execution_count": 5,
   "id": "32703c38",
   "metadata": {},
   "outputs": [],
   "source": [
    "conn = sqlite3.connect('FPA_FOD_20170508.sqlite')"
   ]
  },
  {
   "cell_type": "markdown",
   "id": "3fef6fdc",
   "metadata": {},
   "source": [
    "### 5 - Qual unidade NWCG identificou e fez mais relatórios sobre incêndios no período entre 2001 - 2010?"
   ]
  },
  {
   "cell_type": "code",
   "execution_count": 6,
   "id": "597b455b",
   "metadata": {},
   "outputs": [],
   "source": [
    "consulta5 = \"\"\"\n",
    "SELECT NWCG_REPORTING_AGENCY,\n",
    "        NWCG_REPORTING_UNIT_ID, \n",
    "        NWCG_REPORTING_UNIT_NAME, \n",
    "        SOURCE_REPORTING_UNIT,\n",
    "        count(*) as \"QUAT_RELATORIOS\"\n",
    "        -- \"QUAT_RELATORIOS\" =  QUANTIDADE DE RELATÓRIOS EMITIDOS PELA UNIDADE \n",
    "from (\n",
    "        -- TABELA SECUNDARIA COM OS DADOS NESCESSARIOS PARA A CONSULTA\n",
    "\t\tSELECT NWCG_REPORTING_AGENCY,\n",
    "\t\tNWCG_REPORTING_UNIT_ID, \n",
    "\t\tNWCG_REPORTING_UNIT_NAME, \n",
    "\t\tSOURCE_REPORTING_UNIT\n",
    "\t\tfrom Fires\n",
    "\t\twhere strftime('%Y', datetime(DISCOVERY_DATE)) >=  '2001' and strftime('%Y', datetime(DISCOVERY_DATE)) <=  '2010'\n",
    ")\n",
    "group by  NWCG_REPORTING_AGENCY,\n",
    "\t\t  NWCG_REPORTING_UNIT_ID, \n",
    "\t\t  NWCG_REPORTING_UNIT_NAME, \n",
    "\t\t  SOURCE_REPORTING_UNIT\n",
    "order by \"QUAT_RELATORIOS\" DESC\n",
    "\"\"\""
   ]
  },
  {
   "cell_type": "code",
   "execution_count": 7,
   "id": "67627f02",
   "metadata": {},
   "outputs": [],
   "source": [
    "consulta5_1 = \"\"\"\n",
    "SELECT NWCG_REPORTING_AGENCY,\n",
    "        NWCG_REPORTING_UNIT_ID, \n",
    "        NWCG_REPORTING_UNIT_NAME, \n",
    "        count(*) as \"QUAT_RELATORIOS\"\n",
    "        -- \"QUAT_RELATORIOS\" =  QUANTIDADE DE RELATÓRIOS EMITIDOS PELA UNIDADE \n",
    "from (\n",
    "        -- TABELA SECUNDARIA COM OS DADOS NESCESSARIOS PARA A CONSULTA\n",
    "\t\tSELECT NWCG_REPORTING_AGENCY,\n",
    "\t\tNWCG_REPORTING_UNIT_ID, \n",
    "\t\tNWCG_REPORTING_UNIT_NAME, \n",
    "\t\tSOURCE_REPORTING_UNIT\n",
    "\t\tfrom Fires\n",
    "\t\twhere strftime('%Y', datetime(DISCOVERY_DATE)) >=  '2001' and strftime('%Y', datetime(DISCOVERY_DATE)) <=  '2010'\n",
    ")\n",
    "group by  NWCG_REPORTING_AGENCY,\n",
    "\t\t  NWCG_REPORTING_UNIT_ID, \n",
    "\t\t  NWCG_REPORTING_UNIT_NAME\n",
    "order by \"QUAT_RELATORIOS\" DESC\n",
    "\"\"\""
   ]
  },
  {
   "cell_type": "code",
   "execution_count": 8,
   "id": "ffd1745a",
   "metadata": {},
   "outputs": [],
   "source": [
    "resultado5 = pd.read_sql_query(consulta5, conn)"
   ]
  },
  {
   "cell_type": "code",
   "execution_count": 9,
   "id": "30de902a",
   "metadata": {},
   "outputs": [],
   "source": [
    "resultado5_1 = pd.read_sql_query(consulta5_1, conn)"
   ]
  },
  {
   "cell_type": "code",
   "execution_count": 13,
   "id": "21b39f80",
   "metadata": {},
   "outputs": [
    {
     "data": {
      "text/html": [
       "<div>\n",
       "<style scoped>\n",
       "    .dataframe tbody tr th:only-of-type {\n",
       "        vertical-align: middle;\n",
       "    }\n",
       "\n",
       "    .dataframe tbody tr th {\n",
       "        vertical-align: top;\n",
       "    }\n",
       "\n",
       "    .dataframe thead th {\n",
       "        text-align: right;\n",
       "    }\n",
       "</style>\n",
       "<table border=\"1\" class=\"dataframe\">\n",
       "  <thead>\n",
       "    <tr style=\"text-align: right;\">\n",
       "      <th></th>\n",
       "      <th>NWCG_REPORTING_AGENCY</th>\n",
       "      <th>NWCG_REPORTING_UNIT_ID</th>\n",
       "      <th>NWCG_REPORTING_UNIT_NAME</th>\n",
       "      <th>SOURCE_REPORTING_UNIT</th>\n",
       "      <th>QUAT_RELATORIOS</th>\n",
       "    </tr>\n",
       "  </thead>\n",
       "  <tbody>\n",
       "    <tr>\n",
       "      <th>0</th>\n",
       "      <td>ST/C&amp;L</td>\n",
       "      <td>USTXTXS</td>\n",
       "      <td>Texas A &amp; M Forest Service</td>\n",
       "      <td>TXTXS</td>\n",
       "      <td>38055</td>\n",
       "    </tr>\n",
       "  </tbody>\n",
       "</table>\n",
       "</div>"
      ],
      "text/plain": [
       "  NWCG_REPORTING_AGENCY NWCG_REPORTING_UNIT_ID    NWCG_REPORTING_UNIT_NAME  \\\n",
       "0                ST/C&L                USTXTXS  Texas A & M Forest Service   \n",
       "\n",
       "  SOURCE_REPORTING_UNIT  QUAT_RELATORIOS  \n",
       "0                 TXTXS            38055  "
      ]
     },
     "metadata": {},
     "output_type": "display_data"
    }
   ],
   "source": [
    "display(resultado5.head(1))"
   ]
  },
  {
   "cell_type": "markdown",
   "id": "8f17c06e",
   "metadata": {},
   "source": [
    "A unidade que mais identificou incendios no periodo analisado, foi a unidade Georgia Forestry Commission da agencia ST/C&L, codigo 'TXTXS' tendo identificado 38055 incendios que se iniciaram nesse periodo"
   ]
  },
  {
   "cell_type": "code",
   "execution_count": 14,
   "id": "6404c4d7",
   "metadata": {},
   "outputs": [
    {
     "data": {
      "text/html": [
       "<div>\n",
       "<style scoped>\n",
       "    .dataframe tbody tr th:only-of-type {\n",
       "        vertical-align: middle;\n",
       "    }\n",
       "\n",
       "    .dataframe tbody tr th {\n",
       "        vertical-align: top;\n",
       "    }\n",
       "\n",
       "    .dataframe thead th {\n",
       "        text-align: right;\n",
       "    }\n",
       "</style>\n",
       "<table border=\"1\" class=\"dataframe\">\n",
       "  <thead>\n",
       "    <tr style=\"text-align: right;\">\n",
       "      <th></th>\n",
       "      <th>NWCG_REPORTING_AGENCY</th>\n",
       "      <th>NWCG_REPORTING_UNIT_ID</th>\n",
       "      <th>NWCG_REPORTING_UNIT_NAME</th>\n",
       "      <th>QUAT_RELATORIOS</th>\n",
       "    </tr>\n",
       "  </thead>\n",
       "  <tbody>\n",
       "    <tr>\n",
       "      <th>0</th>\n",
       "      <td>ST/C&amp;L</td>\n",
       "      <td>USGAGAS</td>\n",
       "      <td>Georgia Forestry Commission</td>\n",
       "      <td>68862</td>\n",
       "    </tr>\n",
       "  </tbody>\n",
       "</table>\n",
       "</div>"
      ],
      "text/plain": [
       "  NWCG_REPORTING_AGENCY NWCG_REPORTING_UNIT_ID     NWCG_REPORTING_UNIT_NAME  \\\n",
       "0                ST/C&L                USGAGAS  Georgia Forestry Commission   \n",
       "\n",
       "   QUAT_RELATORIOS  \n",
       "0            68862  "
      ]
     },
     "metadata": {},
     "output_type": "display_data"
    }
   ],
   "source": [
    "display(resultado5_1.head(1))"
   ]
  },
  {
   "cell_type": "markdown",
   "id": "620b885a",
   "metadata": {},
   "source": [
    "A unidade que mais identificou incendios no periodo analisado, foi a unidade Georgia Forestry Commission da agencia ST/C&L, tendo identificado 68862 incendios que se iniciaram nesse periodo, através de suas unidades"
   ]
  },
  {
   "cell_type": "markdown",
   "id": "feb569a2",
   "metadata": {},
   "source": [
    "### 6 - Quantos acres foram queimados entre 2004 - 2007?"
   ]
  },
  {
   "cell_type": "markdown",
   "id": "7df7ee11",
   "metadata": {},
   "source": [
    "Nessa analise eu vou levar em conta o perimero que foi queimado, analisando os incendiso que se iniciaram e que foram controlado no periodo selecionado"
   ]
  },
  {
   "cell_type": "code",
   "execution_count": 15,
   "id": "fa7552e3",
   "metadata": {},
   "outputs": [],
   "source": [
    "consulta6 = \"\"\"\n",
    "SELECT sum(FIRE_SIZE)\n",
    "from (\n",
    "\t\tselect FIRE_SIZE, strftime('%Y', datetime(DISCOVERY_DATE)) as \"DESCOBERT\", strftime('%Y', datetime(CONT_DATE)) as \"CONTIDO\"\n",
    "\t\tfrom Fires\n",
    "\t\twhere strftime('%Y', datetime(DISCOVERY_DATE)) >=  '2004' and strftime('%Y', datetime(CONT_DATE)) <=  '2007'\n",
    ")\n",
    "\"\"\""
   ]
  },
  {
   "cell_type": "code",
   "execution_count": 16,
   "id": "78b7d7d6",
   "metadata": {},
   "outputs": [],
   "source": [
    "resultado6 = pd.read_sql_query(consulta6, conn)"
   ]
  },
  {
   "cell_type": "code",
   "execution_count": 20,
   "id": "727d0731",
   "metadata": {},
   "outputs": [
    {
     "data": {
      "text/html": [
       "<div>\n",
       "<style scoped>\n",
       "    .dataframe tbody tr th:only-of-type {\n",
       "        vertical-align: middle;\n",
       "    }\n",
       "\n",
       "    .dataframe tbody tr th {\n",
       "        vertical-align: top;\n",
       "    }\n",
       "\n",
       "    .dataframe thead th {\n",
       "        text-align: right;\n",
       "    }\n",
       "</style>\n",
       "<table border=\"1\" class=\"dataframe\">\n",
       "  <thead>\n",
       "    <tr style=\"text-align: right;\">\n",
       "      <th></th>\n",
       "      <th>sum(FIRE_SIZE)</th>\n",
       "    </tr>\n",
       "  </thead>\n",
       "  <tbody>\n",
       "    <tr>\n",
       "      <th>0</th>\n",
       "      <td>3.137359e+07</td>\n",
       "    </tr>\n",
       "  </tbody>\n",
       "</table>\n",
       "</div>"
      ],
      "text/plain": [
       "   sum(FIRE_SIZE)\n",
       "0    3.137359e+07"
      ]
     },
     "metadata": {},
     "output_type": "display_data"
    }
   ],
   "source": [
    "display(resultado6)"
   ]
  },
  {
   "cell_type": "markdown",
   "id": "79303cf4",
   "metadata": {},
   "source": [
    "seguindo o critério ja estabelecido acima, foram cerca 31373590 de acres queimados dentro do periodo analisado"
   ]
  },
  {
   "cell_type": "markdown",
   "id": "5c184927",
   "metadata": {},
   "source": [
    "### 7 - Qual mês teve o maior somatório de hectares queimados no período analisado?"
   ]
  },
  {
   "cell_type": "code",
   "execution_count": 31,
   "id": "f4366c55",
   "metadata": {},
   "outputs": [],
   "source": [
    "consulta7 = \"\"\"\n",
    "SELECT sum(FIRE_SIZE) \"AREA QUEIMADA\", \n",
    "\t\tstrftime('%m', datetime(DISCOVERY_DATE)) as \"MES\"\n",
    "from Fires\n",
    "GROUP by \"MES\"\n",
    "order by \"AREA QUEIMADA\" desc\n",
    "\"\"\""
   ]
  },
  {
   "cell_type": "code",
   "execution_count": 32,
   "id": "f95bd393",
   "metadata": {},
   "outputs": [],
   "source": [
    "resultado7 = pd.read_sql_query(consulta7, conn)"
   ]
  },
  {
   "cell_type": "code",
   "execution_count": 33,
   "id": "3b606c8a",
   "metadata": {},
   "outputs": [
    {
     "data": {
      "text/html": [
       "<div>\n",
       "<style scoped>\n",
       "    .dataframe tbody tr th:only-of-type {\n",
       "        vertical-align: middle;\n",
       "    }\n",
       "\n",
       "    .dataframe tbody tr th {\n",
       "        vertical-align: top;\n",
       "    }\n",
       "\n",
       "    .dataframe thead th {\n",
       "        text-align: right;\n",
       "    }\n",
       "</style>\n",
       "<table border=\"1\" class=\"dataframe\">\n",
       "  <thead>\n",
       "    <tr style=\"text-align: right;\">\n",
       "      <th></th>\n",
       "      <th>AREA QUEIMADA</th>\n",
       "      <th>MES</th>\n",
       "    </tr>\n",
       "  </thead>\n",
       "  <tbody>\n",
       "    <tr>\n",
       "      <th>0</th>\n",
       "      <td>3.471845e+07</td>\n",
       "      <td>06</td>\n",
       "    </tr>\n",
       "    <tr>\n",
       "      <th>1</th>\n",
       "      <td>3.319893e+07</td>\n",
       "      <td>07</td>\n",
       "    </tr>\n",
       "    <tr>\n",
       "      <th>2</th>\n",
       "      <td>2.872682e+07</td>\n",
       "      <td>08</td>\n",
       "    </tr>\n",
       "    <tr>\n",
       "      <th>3</th>\n",
       "      <td>9.881825e+06</td>\n",
       "      <td>05</td>\n",
       "    </tr>\n",
       "    <tr>\n",
       "      <th>4</th>\n",
       "      <td>8.382925e+06</td>\n",
       "      <td>04</td>\n",
       "    </tr>\n",
       "    <tr>\n",
       "      <th>5</th>\n",
       "      <td>6.811492e+06</td>\n",
       "      <td>03</td>\n",
       "    </tr>\n",
       "    <tr>\n",
       "      <th>6</th>\n",
       "      <td>6.056130e+06</td>\n",
       "      <td>09</td>\n",
       "    </tr>\n",
       "    <tr>\n",
       "      <th>7</th>\n",
       "      <td>3.882545e+06</td>\n",
       "      <td>10</td>\n",
       "    </tr>\n",
       "    <tr>\n",
       "      <th>8</th>\n",
       "      <td>3.590447e+06</td>\n",
       "      <td>02</td>\n",
       "    </tr>\n",
       "    <tr>\n",
       "      <th>9</th>\n",
       "      <td>2.090597e+06</td>\n",
       "      <td>11</td>\n",
       "    </tr>\n",
       "    <tr>\n",
       "      <th>10</th>\n",
       "      <td>1.897184e+06</td>\n",
       "      <td>01</td>\n",
       "    </tr>\n",
       "    <tr>\n",
       "      <th>11</th>\n",
       "      <td>8.952030e+05</td>\n",
       "      <td>12</td>\n",
       "    </tr>\n",
       "  </tbody>\n",
       "</table>\n",
       "</div>"
      ],
      "text/plain": [
       "    AREA QUEIMADA MES\n",
       "0    3.471845e+07  06\n",
       "1    3.319893e+07  07\n",
       "2    2.872682e+07  08\n",
       "3    9.881825e+06  05\n",
       "4    8.382925e+06  04\n",
       "5    6.811492e+06  03\n",
       "6    6.056130e+06  09\n",
       "7    3.882545e+06  10\n",
       "8    3.590447e+06  02\n",
       "9    2.090597e+06  11\n",
       "10   1.897184e+06  01\n",
       "11   8.952030e+05  12"
      ]
     },
     "metadata": {},
     "output_type": "display_data"
    }
   ],
   "source": [
    "display(resultado7)"
   ]
  },
  {
   "cell_type": "markdown",
   "id": "3e8a21ed",
   "metadata": {},
   "source": [
    "O Mês de junho é o mes com a maior indices de incendios localizados, o inicio do verão"
   ]
  },
  {
   "cell_type": "markdown",
   "id": "c5178e5e",
   "metadata": {},
   "source": [
    "### 8 - Um gráfico relacionando a quantidade de hectares queimados aos meses do ano no periodo total analisado. "
   ]
  },
  {
   "cell_type": "code",
   "execution_count": 40,
   "id": "335d5889",
   "metadata": {},
   "outputs": [
    {
     "data": {
      "image/png": "[encoded data removed]",
      "text/plain": [
       "<Figure size 1296x432 with 1 Axes>"
      ]
     },
     "metadata": {
      "needs_background": "light"
     },
     "output_type": "display_data"
    }
   ],
   "source": [
    "fig, ax = plt.subplots(figsize=(18,6))\n",
    "    \n",
    "plt.plot(resultado7.sort_values(['MES'], ascending = True)['MES'], resultado7.sort_values(['MES'],\n",
    "         ascending = True)['AREA QUEIMADA'], 'b--', marker = 'o')\n",
    "\n",
    "plt.title(f\"Volume de incendio combinados em cada mes\", fontdict  = {'fontsize': '15',\n",
    "                                                                               'family': 'serif',\n",
    "                                                                               'fontweight': 'bold',\n",
    "                                                                               'color': 'black' }, loc = 'center')\n",
    "#configuração e estilos do label x\n",
    "plt.xlabel(\"\\nMes\", fontdict  = {'fontsize': '15',\n",
    "                                       'family': 'serif',\n",
    "                                       'fontweight': 'bold',\n",
    "                                       'color': 'blue' }, loc = 'center')\n",
    "\n",
    "\n",
    "plt.show()"
   ]
  },
  {
   "cell_type": "code",
   "execution_count": null,
   "id": "abef494b",
   "metadata": {},
   "outputs": [],
   "source": []
  }
 ],
 "metadata": {
  "kernelspec": {
   "display_name": "Python 3 (ipykernel)",
   "language": "python",
   "name": "python3"
  },
  "language_info": {
   "codemirror_mode": {
    "name": "ipython",
    "version": 3
   },
   "file_extension": ".py",
   "mimetype": "text/x-python",
   "name": "python",
   "nbconvert_exporter": "python",
   "pygments_lexer": "ipython3",
   "version": "3.9.12"
  }
 },
 "nbformat": 4,
 "nbformat_minor": 5
}
