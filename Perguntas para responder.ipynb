{
 "cells": [
  {
   "cell_type": "markdown",
   "id": "d37e0dab",
   "metadata": {},
   "source": [
    "### Perguntas para responder com a base de dados\n",
    "\n",
    "1 - De 1992 a 2015 qual ano apresentou a maior e menor taxa de incêncios no mês de janeiro?\n",
    "\n",
    "\n",
    "2 - De 1992 a 2015 qual ano teve a menor taxa de incêndios entre os meses de maio e agosto?\n",
    "\n",
    "\n",
    "3 - Qual dia do ano de 2007 teve a maior taxa de incidência de incêndios descoebertos? \n",
    "\n",
    "\n",
    "4 - Em qual ano do período analisado teve a maior taxa de incêndios controlados no mês de abril? \n",
    "\n",
    "\n",
    "5 - Qual unidade NWCG identificou e fez mais relatórios sobre incêndios no período entre 2001 - 2010? \n",
    "\n",
    "\n",
    "6 - Quantos hectares foram queimados entre 2004 - 2007? okokok\n",
    "\n",
    "\n",
    "7 - Qual mês teve o maior somatório de hectares queimados no período analisado? ookokok\n",
    "\n",
    "\n",
    "8 - Um gráfico relacionando a quantidade de hectares queimados aos meses do ano no periodo total analisado.\n",
    "\n",
    "\n",
    "9 - Qual das agências identificou mais incêndios no estado do Arizona?\n",
    "\n",
    "\n",
    "10 - Qual foi a terceira agência que identificou mais incêncios na Flórida no mês de janeiro?\n",
    "\n",
    "\n",
    "11 - Selecione os 50 maiores incêndios que ocorreram e plote eles no mapa.\n",
    "\n",
    "\n",
    "12 - Analisando o mapa anterior, quais foram as 3 regiões mais críticas nesse ano?"
   ]
  }
 ],
 "metadata": {
  "kernelspec": {
   "display_name": "Python 3 (ipykernel)",
   "language": "python",
   "name": "python3"
  },
  "language_info": {
   "codemirror_mode": {
    "name": "ipython",
    "version": 3
   },
   "file_extension": ".py",
   "mimetype": "text/x-python",
   "name": "python",
   "nbconvert_exporter": "python",
   "pygments_lexer": "ipython3",
   "version": "3.9.12"
  }
 },
 "nbformat": 4,
 "nbformat_minor": 5
}
